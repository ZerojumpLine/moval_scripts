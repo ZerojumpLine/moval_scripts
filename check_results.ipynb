{
 "cells": [
  {
   "cell_type": "code",
   "execution_count": 1,
   "id": "8614447c-a01d-414a-85a0-eca995e1ad32",
   "metadata": {},
   "outputs": [],
   "source": [
    "import re\n",
    "import moval\n",
    "import itertools\n",
    "import pickle\n",
    "import matplotlib.pyplot as plt\n",
    "import pandas as pd\n",
    "import numpy as np"
   ]
  },
  {
   "cell_type": "markdown",
   "id": "97c40fa2-c813-42d5-8ed0-c7f60bc24376",
   "metadata": {},
   "source": [
    "## Let's check the model parameters first (pickle)"
   ]
  },
  {
   "cell_type": "code",
   "execution_count": 31,
   "id": "6afee36b-caff-42cb-98f3-9f40c434c336",
   "metadata": {},
   "outputs": [],
   "source": [
    "# pickle_path_org = 'HAM_classification_auc_max_class_probability-conf_ts-model_False.pkl'\n",
    "# pickle_path_cs = 'HAM_classification_auc_max_class_probability-conf_ts-model_True.pkl'\n",
    "# pickle_path_org = 'Cardiac_segmentation_f1score_max_class_probability-conf_atc-model_False.pkl'\n",
    "# pickle_path_cs = 'Cardiac_segmentation_f1score_max_class_probability-conf_atc-model_True.pkl'\n",
    "pickle_path_org = 'Cifar10ci2_classification_accuracy_energy-conf_ts-model_False.pkl'\n",
    "pickle_path_cs = 'Cifar10ci2_classification_accuracy_energy-conf_ts-model_True.pkl'"
   ]
  },
  {
   "cell_type": "code",
   "execution_count": 32,
   "id": "65183137-5107-40b9-b86f-1f968c785339",
   "metadata": {},
   "outputs": [
    {
     "name": "stdout",
     "output_type": "stream",
     "text": [
      "[9.08412657]\n"
     ]
    }
   ],
   "source": [
    "with open(pickle_path_org, 'rb') as file:\n",
    "    loaded_ckpt = pickle.load(file)\n",
    "org_param = loaded_ckpt[\"param\"]\n",
    "print(org_param)"
   ]
  },
  {
   "cell_type": "code",
   "execution_count": 33,
   "id": "adc57f6d-cacf-489a-8c4d-18b343fd43b3",
   "metadata": {},
   "outputs": [
    {
     "data": {
      "text/plain": [
       "0.740666665282634"
      ]
     },
     "execution_count": 33,
     "metadata": {},
     "output_type": "execute_result"
    }
   ],
   "source": [
    "np.mean(loaded_ckpt[\"fitted_perf\"])"
   ]
  },
  {
   "cell_type": "code",
   "execution_count": 34,
   "id": "59b0de38-5413-4724-a8de-6289e51bb3b4",
   "metadata": {},
   "outputs": [
    {
     "data": {
      "text/plain": [
       "3000"
      ]
     },
     "execution_count": 34,
     "metadata": {},
     "output_type": "execute_result"
    }
   ],
   "source": [
    "len(loaded_ckpt[\"fitted_perf\"])"
   ]
  },
  {
   "cell_type": "code",
   "execution_count": 35,
   "id": "9219d4b9-e3a5-4889-a40d-6982ce16d5a0",
   "metadata": {},
   "outputs": [
    {
     "name": "stdout",
     "output_type": "stream",
     "text": [
      "[ 7.10525036  7.96918507  9.00384159  6.98718138 10.17681732  9.31715851\n",
      " 11.0485713  11.42319136 11.99084339 12.05871696]\n"
     ]
    }
   ],
   "source": [
    "with open(pickle_path_cs, 'rb') as file:\n",
    "    loaded_ckpt = pickle.load(file)\n",
    "cs_param = loaded_ckpt[\"param\"]\n",
    "print(cs_param)"
   ]
  },
  {
   "cell_type": "code",
   "execution_count": 36,
   "id": "f289f18d-f28d-4464-9a23-e4ec19da85b4",
   "metadata": {},
   "outputs": [
    {
     "name": "stdout",
     "output_type": "stream",
     "text": [
      "0.7406666637319568\n"
     ]
    }
   ],
   "source": [
    "print(np.mean(loaded_ckpt[\"fitted_perf\"]))"
   ]
  },
  {
   "cell_type": "code",
   "execution_count": null,
   "id": "558188a4-cc02-4083-974e-3c91a87cc7f0",
   "metadata": {},
   "outputs": [],
   "source": []
  },
  {
   "cell_type": "code",
   "execution_count": null,
   "id": "c6f2c4a7-ef68-4965-bd00-6654b8255f8b",
   "metadata": {},
   "outputs": [],
   "source": []
  }
 ],
 "metadata": {
  "kernelspec": {
   "display_name": "Python 3 (ipykernel)",
   "language": "python",
   "name": "python3"
  },
  "language_info": {
   "codemirror_mode": {
    "name": "ipython",
    "version": 3
   },
   "file_extension": ".py",
   "mimetype": "text/x-python",
   "name": "python",
   "nbconvert_exporter": "python",
   "pygments_lexer": "ipython3",
   "version": "3.9.13"
  }
 },
 "nbformat": 4,
 "nbformat_minor": 5
}

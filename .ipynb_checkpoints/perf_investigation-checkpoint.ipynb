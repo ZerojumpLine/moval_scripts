{
 "cells": [
  {
   "cell_type": "code",
   "execution_count": 1,
   "id": "1be35828-a72e-491b-8192-8c06d7c1092c",
   "metadata": {
    "scrolled": true
   },
   "outputs": [
    {
     "name": "stdout",
     "output_type": "stream",
     "text": [
      "Requirement already satisfied: moval in /Users/zejuli/opt/anaconda3/lib/python3.9/site-packages (0.2.5)\n",
      "Requirement already satisfied: pandas in /Users/zejuli/opt/anaconda3/lib/python3.9/site-packages (from moval) (1.4.4)\n",
      "Requirement already satisfied: scikit-learn>=1.3.0 in /Users/zejuli/opt/anaconda3/lib/python3.9/site-packages (from moval) (1.3.0)\n",
      "Requirement already satisfied: pytest in /Users/zejuli/opt/anaconda3/lib/python3.9/site-packages (from moval) (7.1.2)\n",
      "Requirement already satisfied: scipy>=1.8.0 in /Users/zejuli/opt/anaconda3/lib/python3.9/site-packages (from moval) (1.9.1)\n",
      "Requirement already satisfied: gdown in /Users/zejuli/opt/anaconda3/lib/python3.9/site-packages (from moval) (4.7.1)\n",
      "Requirement already satisfied: nibabel in /Users/zejuli/opt/anaconda3/lib/python3.9/site-packages (from moval) (5.0.1)\n",
      "Requirement already satisfied: threadpoolctl>=2.0.0 in /Users/zejuli/opt/anaconda3/lib/python3.9/site-packages (from scikit-learn>=1.3.0->moval) (2.2.0)\n",
      "Requirement already satisfied: numpy>=1.17.3 in /Users/zejuli/opt/anaconda3/lib/python3.9/site-packages (from scikit-learn>=1.3.0->moval) (1.21.5)\n",
      "Requirement already satisfied: joblib>=1.1.1 in /Users/zejuli/opt/anaconda3/lib/python3.9/site-packages (from scikit-learn>=1.3.0->moval) (1.3.1)\n",
      "Requirement already satisfied: requests[socks] in /Users/zejuli/opt/anaconda3/lib/python3.9/site-packages (from gdown->moval) (2.28.1)\n",
      "Requirement already satisfied: beautifulsoup4 in /Users/zejuli/opt/anaconda3/lib/python3.9/site-packages (from gdown->moval) (4.11.1)\n",
      "Requirement already satisfied: filelock in /Users/zejuli/opt/anaconda3/lib/python3.9/site-packages (from gdown->moval) (3.6.0)\n",
      "Requirement already satisfied: six in /Users/zejuli/opt/anaconda3/lib/python3.9/site-packages (from gdown->moval) (1.16.0)\n",
      "Requirement already satisfied: tqdm in /Users/zejuli/opt/anaconda3/lib/python3.9/site-packages (from gdown->moval) (4.64.1)\n",
      "Requirement already satisfied: setuptools in /Users/zejuli/opt/anaconda3/lib/python3.9/site-packages (from nibabel->moval) (63.4.1)\n",
      "Requirement already satisfied: packaging>=17 in /Users/zejuli/opt/anaconda3/lib/python3.9/site-packages (from nibabel->moval) (21.3)\n",
      "Requirement already satisfied: python-dateutil>=2.8.1 in /Users/zejuli/opt/anaconda3/lib/python3.9/site-packages (from pandas->moval) (2.8.2)\n",
      "Requirement already satisfied: pytz>=2020.1 in /Users/zejuli/opt/anaconda3/lib/python3.9/site-packages (from pandas->moval) (2022.1)\n",
      "Requirement already satisfied: attrs>=19.2.0 in /Users/zejuli/opt/anaconda3/lib/python3.9/site-packages (from pytest->moval) (21.4.0)\n",
      "Requirement already satisfied: iniconfig in /Users/zejuli/opt/anaconda3/lib/python3.9/site-packages (from pytest->moval) (1.1.1)\n",
      "Requirement already satisfied: pluggy<2.0,>=0.12 in /Users/zejuli/opt/anaconda3/lib/python3.9/site-packages (from pytest->moval) (1.0.0)\n",
      "Requirement already satisfied: py>=1.8.2 in /Users/zejuli/opt/anaconda3/lib/python3.9/site-packages (from pytest->moval) (1.11.0)\n",
      "Requirement already satisfied: tomli>=1.0.0 in /Users/zejuli/opt/anaconda3/lib/python3.9/site-packages (from pytest->moval) (2.0.1)\n",
      "Requirement already satisfied: pyparsing!=3.0.5,>=2.0.2 in /Users/zejuli/opt/anaconda3/lib/python3.9/site-packages (from packaging>=17->nibabel->moval) (3.0.9)\n",
      "Requirement already satisfied: soupsieve>1.2 in /Users/zejuli/opt/anaconda3/lib/python3.9/site-packages (from beautifulsoup4->gdown->moval) (2.3.1)\n",
      "Requirement already satisfied: idna<4,>=2.5 in /Users/zejuli/opt/anaconda3/lib/python3.9/site-packages (from requests[socks]->gdown->moval) (3.3)\n",
      "Requirement already satisfied: certifi>=2017.4.17 in /Users/zejuli/opt/anaconda3/lib/python3.9/site-packages (from requests[socks]->gdown->moval) (2022.9.24)\n",
      "Requirement already satisfied: urllib3<1.27,>=1.21.1 in /Users/zejuli/opt/anaconda3/lib/python3.9/site-packages (from requests[socks]->gdown->moval) (1.26.11)\n",
      "Requirement already satisfied: charset-normalizer<3,>=2 in /Users/zejuli/opt/anaconda3/lib/python3.9/site-packages (from requests[socks]->gdown->moval) (2.0.4)\n",
      "Requirement already satisfied: PySocks!=1.5.7,>=1.5.6 in /Users/zejuli/opt/anaconda3/lib/python3.9/site-packages (from requests[socks]->gdown->moval) (1.7.1)\n",
      "Requirement already satisfied: statannotations in /Users/zejuli/opt/anaconda3/lib/python3.9/site-packages (0.6.0)\n",
      "Requirement already satisfied: scipy>=1.1.0 in /Users/zejuli/opt/anaconda3/lib/python3.9/site-packages (from statannotations) (1.9.1)\n",
      "Collecting seaborn<0.12,>=0.9.0\n",
      "  Using cached seaborn-0.11.2-py3-none-any.whl (292 kB)\n",
      "Requirement already satisfied: numpy>=1.12.1 in /Users/zejuli/opt/anaconda3/lib/python3.9/site-packages (from statannotations) (1.21.5)\n",
      "Requirement already satisfied: pandas<2.0.0,>=0.23.0 in /Users/zejuli/opt/anaconda3/lib/python3.9/site-packages (from statannotations) (1.4.4)\n",
      "Requirement already satisfied: matplotlib>=2.2.2 in /Users/zejuli/opt/anaconda3/lib/python3.9/site-packages (from statannotations) (3.5.2)\n",
      "Requirement already satisfied: packaging>=20.0 in /Users/zejuli/opt/anaconda3/lib/python3.9/site-packages (from matplotlib>=2.2.2->statannotations) (21.3)\n",
      "Requirement already satisfied: kiwisolver>=1.0.1 in /Users/zejuli/opt/anaconda3/lib/python3.9/site-packages (from matplotlib>=2.2.2->statannotations) (1.4.2)\n",
      "Requirement already satisfied: pyparsing>=2.2.1 in /Users/zejuli/opt/anaconda3/lib/python3.9/site-packages (from matplotlib>=2.2.2->statannotations) (3.0.9)\n",
      "Requirement already satisfied: cycler>=0.10 in /Users/zejuli/opt/anaconda3/lib/python3.9/site-packages (from matplotlib>=2.2.2->statannotations) (0.11.0)\n",
      "Requirement already satisfied: pillow>=6.2.0 in /Users/zejuli/opt/anaconda3/lib/python3.9/site-packages (from matplotlib>=2.2.2->statannotations) (9.2.0)\n",
      "Requirement already satisfied: fonttools>=4.22.0 in /Users/zejuli/opt/anaconda3/lib/python3.9/site-packages (from matplotlib>=2.2.2->statannotations) (4.25.0)\n",
      "Requirement already satisfied: python-dateutil>=2.7 in /Users/zejuli/opt/anaconda3/lib/python3.9/site-packages (from matplotlib>=2.2.2->statannotations) (2.8.2)\n",
      "Requirement already satisfied: pytz>=2020.1 in /Users/zejuli/opt/anaconda3/lib/python3.9/site-packages (from pandas<2.0.0,>=0.23.0->statannotations) (2022.1)\n",
      "Requirement already satisfied: six>=1.5 in /Users/zejuli/opt/anaconda3/lib/python3.9/site-packages (from python-dateutil>=2.7->matplotlib>=2.2.2->statannotations) (1.16.0)\n",
      "Installing collected packages: seaborn\n",
      "  Attempting uninstall: seaborn\n",
      "    Found existing installation: seaborn 0.12.0\n",
      "    Uninstalling seaborn-0.12.0:\n",
      "      Successfully uninstalled seaborn-0.12.0\n",
      "Successfully installed seaborn-0.11.2\n",
      "Requirement already satisfied: pandas in /Users/zejuli/opt/anaconda3/lib/python3.9/site-packages (1.4.4)\n",
      "Requirement already satisfied: python-dateutil>=2.8.1 in /Users/zejuli/opt/anaconda3/lib/python3.9/site-packages (from pandas) (2.8.2)\n",
      "Requirement already satisfied: pytz>=2020.1 in /Users/zejuli/opt/anaconda3/lib/python3.9/site-packages (from pandas) (2022.1)\n",
      "Requirement already satisfied: numpy>=1.18.5 in /Users/zejuli/opt/anaconda3/lib/python3.9/site-packages (from pandas) (1.21.5)\n",
      "Requirement already satisfied: six>=1.5 in /Users/zejuli/opt/anaconda3/lib/python3.9/site-packages (from python-dateutil>=2.8.1->pandas) (1.16.0)\n",
      "Requirement already satisfied: tqdm in /Users/zejuli/opt/anaconda3/lib/python3.9/site-packages (4.64.1)\n",
      "Requirement already satisfied: matplotlib in /Users/zejuli/opt/anaconda3/lib/python3.9/site-packages (3.5.2)\n",
      "Requirement already satisfied: cycler>=0.10 in /Users/zejuli/opt/anaconda3/lib/python3.9/site-packages (from matplotlib) (0.11.0)\n",
      "Requirement already satisfied: packaging>=20.0 in /Users/zejuli/opt/anaconda3/lib/python3.9/site-packages (from matplotlib) (21.3)\n",
      "Requirement already satisfied: pyparsing>=2.2.1 in /Users/zejuli/opt/anaconda3/lib/python3.9/site-packages (from matplotlib) (3.0.9)\n",
      "Requirement already satisfied: python-dateutil>=2.7 in /Users/zejuli/opt/anaconda3/lib/python3.9/site-packages (from matplotlib) (2.8.2)\n",
      "Requirement already satisfied: kiwisolver>=1.0.1 in /Users/zejuli/opt/anaconda3/lib/python3.9/site-packages (from matplotlib) (1.4.2)\n",
      "Requirement already satisfied: numpy>=1.17 in /Users/zejuli/opt/anaconda3/lib/python3.9/site-packages (from matplotlib) (1.21.5)\n",
      "Requirement already satisfied: fonttools>=4.22.0 in /Users/zejuli/opt/anaconda3/lib/python3.9/site-packages (from matplotlib) (4.25.0)\n",
      "Requirement already satisfied: pillow>=6.2.0 in /Users/zejuli/opt/anaconda3/lib/python3.9/site-packages (from matplotlib) (9.2.0)\n",
      "Requirement already satisfied: six>=1.5 in /Users/zejuli/opt/anaconda3/lib/python3.9/site-packages (from python-dateutil>=2.7->matplotlib) (1.16.0)\n"
     ]
    },
    {
     "name": "stdout",
     "output_type": "stream",
     "text": [
      "Collecting seaborn==0.12\n",
      "  Using cached seaborn-0.12.0-py3-none-any.whl (285 kB)\n",
      "Requirement already satisfied: pandas>=0.25 in /Users/zejuli/opt/anaconda3/lib/python3.9/site-packages (from seaborn==0.12) (1.4.4)\n",
      "Requirement already satisfied: matplotlib>=3.1 in /Users/zejuli/opt/anaconda3/lib/python3.9/site-packages (from seaborn==0.12) (3.5.2)\n",
      "Requirement already satisfied: numpy>=1.17 in /Users/zejuli/opt/anaconda3/lib/python3.9/site-packages (from seaborn==0.12) (1.21.5)\n",
      "Requirement already satisfied: fonttools>=4.22.0 in /Users/zejuli/opt/anaconda3/lib/python3.9/site-packages (from matplotlib>=3.1->seaborn==0.12) (4.25.0)\n",
      "Requirement already satisfied: packaging>=20.0 in /Users/zejuli/opt/anaconda3/lib/python3.9/site-packages (from matplotlib>=3.1->seaborn==0.12) (21.3)\n",
      "Requirement already satisfied: pillow>=6.2.0 in /Users/zejuli/opt/anaconda3/lib/python3.9/site-packages (from matplotlib>=3.1->seaborn==0.12) (9.2.0)\n",
      "Requirement already satisfied: kiwisolver>=1.0.1 in /Users/zejuli/opt/anaconda3/lib/python3.9/site-packages (from matplotlib>=3.1->seaborn==0.12) (1.4.2)\n",
      "Requirement already satisfied: pyparsing>=2.2.1 in /Users/zejuli/opt/anaconda3/lib/python3.9/site-packages (from matplotlib>=3.1->seaborn==0.12) (3.0.9)\n",
      "Requirement already satisfied: cycler>=0.10 in /Users/zejuli/opt/anaconda3/lib/python3.9/site-packages (from matplotlib>=3.1->seaborn==0.12) (0.11.0)\n",
      "Requirement already satisfied: python-dateutil>=2.7 in /Users/zejuli/opt/anaconda3/lib/python3.9/site-packages (from matplotlib>=3.1->seaborn==0.12) (2.8.2)\n",
      "Requirement already satisfied: pytz>=2020.1 in /Users/zejuli/opt/anaconda3/lib/python3.9/site-packages (from pandas>=0.25->seaborn==0.12) (2022.1)\n",
      "Requirement already satisfied: six>=1.5 in /Users/zejuli/opt/anaconda3/lib/python3.9/site-packages (from python-dateutil>=2.7->matplotlib>=3.1->seaborn==0.12) (1.16.0)\n",
      "Installing collected packages: seaborn\n",
      "  Attempting uninstall: seaborn\n",
      "    Found existing installation: seaborn 0.11.2\n",
      "    Uninstalling seaborn-0.11.2:\n",
      "      Successfully uninstalled seaborn-0.11.2\n",
      "\u001b[31mERROR: pip's dependency resolver does not currently take into account all the packages that are installed. This behaviour is the source of the following dependency conflicts.\n",
      "statannotations 0.6.0 requires seaborn<0.12,>=0.9.0, but you have seaborn 0.12.0 which is incompatible.\u001b[0m\u001b[31m\n",
      "\u001b[0mSuccessfully installed seaborn-0.12.0\n"
     ]
    }
   ],
   "source": [
    "!pip install moval\n",
    "!pip install statannotations\n",
    "!pip install pandas\n",
    "!pip install tqdm\n",
    "!pip install matplotlib\n",
    "!pip install seaborn==0.12 # because statannotations not support the latest"
   ]
  },
  {
   "cell_type": "code",
   "execution_count": 2,
   "id": "512fa247-0103-448a-ac8f-d130188da4f1",
   "metadata": {},
   "outputs": [],
   "source": [
    "import os\n",
    "import gdown\n",
    "import itertools\n",
    "from matplotlib.patches import Patch\n",
    "import zipfile\n",
    "import pandas as pd\n",
    "import numpy as np\n",
    "import moval\n",
    "from tqdm import tqdm\n",
    "import seaborn as sns\n",
    "import matplotlib.pyplot as plt\n",
    "from statannotations.Annotator import Annotator"
   ]
  },
  {
   "cell_type": "code",
   "execution_count": 3,
   "id": "867490eb-9a41-45a3-adb9-64decabec02f",
   "metadata": {},
   "outputs": [
    {
     "name": "stdout",
     "output_type": "stream",
     "text": [
      "The installed MOVAL verision is 0.2.5\n",
      "The installed seaborn verision is 0.12.0\n"
     ]
    }
   ],
   "source": [
    "print(f\"The installed MOVAL verision is {moval.__version__}\")\n",
    "print(f\"The installed seaborn verision is {sns.__version__}\")"
   ]
  },
  {
   "cell_type": "code",
   "execution_count": 4,
   "id": "558188a4-cc02-4083-974e-3c91a87cc7f0",
   "metadata": {},
   "outputs": [],
   "source": [
    "# cls, acc"
   ]
  },
  {
   "cell_type": "code",
   "execution_count": 121,
   "id": "653689aa",
   "metadata": {},
   "outputs": [],
   "source": [
    "# cls, all conditions (95 + 95 + 7)\n",
    "with open('cls_acc.npy', 'rb') as f:\n",
    "    cifar10_acc_res = np.load(f)\n",
    "    cifar10_acc_gt = np.load(f)\n",
    "    cifar10_acc_res_ensemble = np.load(f)\n",
    "    cifar100_acc_res = np.load(f)\n",
    "    cifar100_acc_gt = np.load(f)\n",
    "    cifar100_acc_res_ensemble = np.load(f)\n",
    "    skin_acc_res = np.load(f)\n",
    "    skin_acc_gt = np.load(f)\n",
    "    skin_acc_res_ensemble = np.load(f)"
   ]
  },
  {
   "cell_type": "code",
   "execution_count": 122,
   "id": "faac65fa",
   "metadata": {},
   "outputs": [],
   "source": [
    "with open('cls_sens.npy', 'rb') as f:\n",
    "    cifar10_sens_res = np.load(f)\n",
    "    cifar10_sens_gt = np.load(f)\n",
    "    cifar10_sens_res_ensemble = np.load(f)\n",
    "    cifar100_sens_res = np.load(f)\n",
    "    cifar100_sens_gt = np.load(f)\n",
    "    cifar100_sens_res_ensemble = np.load(f)\n",
    "    skin_sens_res = np.load(f)\n",
    "    skin_sens_gt = np.load(f)\n",
    "    skin_sens_res_ensemble = np.load(f)"
   ]
  },
  {
   "cell_type": "code",
   "execution_count": 123,
   "id": "a4b960c9",
   "metadata": {},
   "outputs": [],
   "source": [
    "with open('seg3d_f1.npy', 'rb') as f:\n",
    "    prostate_syn_f1_res = np.load(f)\n",
    "    prostate_syn_f1_gt = np.load(f)\n",
    "    prostate_syn_f1_res_ensemble = np.load(f)\n",
    "    prostate_nat_f1_res = np.load(f)\n",
    "    prostate_nat_f1_gt = np.load(f)\n",
    "    prostate_nat_f1_res_ensemble = np.load(f)\n",
    "    brain_syn_f1_res = np.load(f)\n",
    "    brain_syn_f1_gt = np.load(f)\n",
    "    brain_syn_f1_res_ensemble = np.load(f)\n",
    "    brain_nat_f1_res = np.load(f)\n",
    "    brain_nat_f1_gt = np.load(f)\n",
    "    brain_nat_f1_res_ensemble = np.load(f)"
   ]
  },
  {
   "cell_type": "code",
   "execution_count": 124,
   "id": "2ef3f50f",
   "metadata": {},
   "outputs": [],
   "source": [
    "# do the plots"
   ]
  },
  {
   "cell_type": "code",
   "execution_count": 125,
   "id": "4b51d463-32b3-4e40-8029-b1f678f6c0ea",
   "metadata": {},
   "outputs": [],
   "source": [
    "# MCP | CS TS\n",
    "dataset = \"HAM\"\n",
    "mode = \"classification\"\n",
    "metric = \"accuracy\"\n",
    "confidence_scores = \"max_class_probability-conf\"\n",
    "estim_algorithm = \"ts-model\"\n",
    "class_specific = True\n",
    "ckpt_savname = f\"./{dataset}_{mode}_{metric}_{confidence_scores}_{estim_algorithm}_{class_specific}.pkl\"\n",
    "moval_model = moval.MOVAL.load(ckpt_savname)"
   ]
  },
  {
   "cell_type": "code",
   "execution_count": 126,
   "id": "41d15026-2ab1-47be-b9ca-5dab352c5183",
   "metadata": {},
   "outputs": [],
   "source": [
    "valp = moval_model.fitted_perf"
   ]
  },
  {
   "cell_type": "code",
   "execution_count": 127,
   "id": "c3de55e3-3c78-4beb-b90d-db8ac4addcd0",
   "metadata": {},
   "outputs": [],
   "source": [
    "meanv = np.mean(valp)"
   ]
  },
  {
   "cell_type": "code",
   "execution_count": 128,
   "id": "1b1d7c8b",
   "metadata": {},
   "outputs": [],
   "source": [
    "rest = skin_acc_gt[0, :]"
   ]
  },
  {
   "cell_type": "code",
   "execution_count": 129,
   "id": "e81da8be",
   "metadata": {},
   "outputs": [
    {
     "data": {
      "text/plain": [
       "array([0.43309434, 0.59230369, 0.61666667, 0.57602731, 0.87      ,\n",
       "       0.6639478 , 0.99016918])"
      ]
     },
     "execution_count": 129,
     "metadata": {},
     "output_type": "execute_result"
    }
   ],
   "source": [
    "rest"
   ]
  },
  {
   "cell_type": "code",
   "execution_count": 146,
   "id": "26ea8242",
   "metadata": {},
   "outputs": [
    {
     "data": {
      "image/png": "[encoded data removed]",
      "text/plain": [
       "<Figure size 400x200 with 1 Axes>"
      ]
     },
     "metadata": {},
     "output_type": "display_data"
    }
   ],
   "source": [
    "plt.figure(figsize=(4, 2))\n",
    "sns.set_theme(style=\"darkgrid\")\n",
    "\n",
    "# Data\n",
    "data = [meanv, 0.43309434, 0.59230369, 0.61666667, 0.57602731, 0.87      ,\n",
    "       0.6639478 , 0.99016918]\n",
    "\n",
    "# Create an array for indices\n",
    "indices = np.arange(len(data))\n",
    "\n",
    "# Create the plot\n",
    "bars = plt.bar(indices, data, color='#D95319')\n",
    "\n",
    "# Highlight the first bar\n",
    "bars[0].set_color('#0072BD')\n",
    "\n",
    "# Draw a horizontal line at meanv\n",
    "plt.axhline(y=meanv, color='#0072BD', linestyle='--', label='Mean Value')\n",
    "\n",
    "# Add titles and labels\n",
    "plt.title('Data Visualization with Highlighted First Data Point')\n",
    "plt.xlabel('')\n",
    "plt.ylabel('Accuracy')\n",
    "plt.xticks([])\n",
    "\n",
    "plt.title('Accuracy of Skin Lesion Classification')\n",
    "\n",
    "# Create custom patches for the legend\n",
    "first_bar_legend = Patch(color='#0072BD', label='In-Domain Validation')\n",
    "other_bars_legend = Patch(color='#D95319', label='Out-Domain Test')\n",
    "\n",
    "# Add the legend\n",
    "plt.legend(handles=[first_bar_legend, other_bars_legend], loc='lower right')\n",
    "\n",
    "plt.ylim(0, 1)\n",
    "\n",
    "# Show the plot\n",
    "plt.show()"
   ]
  },
  {
   "cell_type": "code",
   "execution_count": 131,
   "id": "16611290",
   "metadata": {},
   "outputs": [],
   "source": [
    "# Cannot provide 'overall' sensitivity. Only contain case-wise metric."
   ]
  },
  {
   "cell_type": "code",
   "execution_count": 132,
   "id": "b26c03f3",
   "metadata": {},
   "outputs": [],
   "source": [
    "# manually derived..\n",
    "meanv = 0.6460225815361901"
   ]
  },
  {
   "cell_type": "code",
   "execution_count": 133,
   "id": "47dfce7f",
   "metadata": {},
   "outputs": [],
   "source": [
    "clslist = []\n",
    "clslist.append([0, 1, 2, 3, 4, 5, 6])\n",
    "clslist.append([1, 2, 3, 4, 5, 6])\n",
    "clslist.append([0, 1, 2, 3, 4, 5])\n",
    "clslist.append([0, 1, 2, 3, 4, 5, 6])\n",
    "clslist.append([4, 5])\n",
    "clslist.append([1, 2, 3, 4, 5])\n",
    "clslist.append([4, 5])"
   ]
  },
  {
   "cell_type": "code",
   "execution_count": 134,
   "id": "ab5252ff",
   "metadata": {},
   "outputs": [],
   "source": [
    "vrecalls = []\n",
    "for cond in range(len(rest)):\n",
    "    cls_sel = clslist[cond]\n",
    "    vrecalls.append(np.mean(skin_sens_gt[cond:cond+1, 0, 0, cls_sel], axis = 1))"
   ]
  },
  {
   "cell_type": "code",
   "execution_count": 135,
   "id": "d8f3f202",
   "metadata": {},
   "outputs": [
    {
     "data": {
      "text/plain": [
       "[array([0.30038784]),\n",
       " array([0.25318057]),\n",
       " array([0.2171637]),\n",
       " array([0.27061808]),\n",
       " array([0.721875]),\n",
       " array([0.29849748]),\n",
       " array([0.5])]"
      ]
     },
     "execution_count": 135,
     "metadata": {},
     "output_type": "execute_result"
    }
   ],
   "source": [
    "vrecalls"
   ]
  },
  {
   "cell_type": "code",
   "execution_count": 154,
   "id": "fd2409b9",
   "metadata": {},
   "outputs": [
    {
     "data": {
      "image/png": "[encoded data removed]",
      "text/plain": [
       "<Figure size 400x200 with 1 Axes>"
      ]
     },
     "metadata": {},
     "output_type": "display_data"
    }
   ],
   "source": [
    "plt.figure(figsize=(4, 2))\n",
    "sns.set_theme(style=\"darkgrid\")\n",
    "\n",
    "# Data\n",
    "data = [meanv, 0.30038784, 0.25318057, 0.2171637, 0.27061808, 0.721875      ,\n",
    "       0.29849748 , 0.5]\n",
    "\n",
    "# Create an array for indices\n",
    "indices = np.arange(len(data))\n",
    "\n",
    "# Create the plot\n",
    "bars = plt.bar(indices, data, color='#D95319')\n",
    "\n",
    "# Highlight the first bar\n",
    "bars[0].set_color('#0072BD')\n",
    "\n",
    "# Draw a horizontal line at meanv\n",
    "plt.axhline(y=meanv, color='#0072BD', linestyle='--', label='Mean Value')\n",
    "\n",
    "# Add titles and labels\n",
    "plt.title('Data Visualization with Highlighted First Data Point')\n",
    "plt.xlabel('')\n",
    "plt.ylabel('Average Recall')\n",
    "plt.xticks([])\n",
    "\n",
    "plt.title('Average Recall of Skin Lesion Classification')\n",
    "\n",
    "# Create custom patches for the legend\n",
    "first_bar_legend = Patch(color='#0072BD', label='In-Domain Validation')\n",
    "other_bars_legend = Patch(color='#D95319', label='Out-Domain Test')\n",
    "\n",
    "# Add the legend\n",
    "plt.legend(handles=[first_bar_legend, other_bars_legend], loc='center left')\n",
    "\n",
    "plt.ylim(0, 1)\n",
    "\n",
    "# Show the plot\n",
    "plt.show()"
   ]
  },
  {
   "cell_type": "code",
   "execution_count": 137,
   "id": "50a3d537",
   "metadata": {},
   "outputs": [],
   "source": [
    "# MCP | CS TS\n",
    "dataset = \"Brainlesionlas\"\n",
    "mode = \"segmentation\"\n",
    "metric = \"f1score\"\n",
    "confidence_scores = \"max_class_probability-conf\"\n",
    "estim_algorithm = \"ts-model\"\n",
    "class_specific = True\n",
    "ckpt_savname = f\"./{dataset}_{mode}_{metric}_{confidence_scores}_{estim_algorithm}_{class_specific}.pkl\"\n",
    "moval_model = moval.MOVAL.load(ckpt_savname)"
   ]
  },
  {
   "cell_type": "code",
   "execution_count": 138,
   "id": "d5db29ee",
   "metadata": {},
   "outputs": [],
   "source": [
    "valp = moval_model.fitted_perf"
   ]
  },
  {
   "cell_type": "code",
   "execution_count": 139,
   "id": "e029b6a1",
   "metadata": {},
   "outputs": [],
   "source": [
    "valp = np.array(valp)"
   ]
  },
  {
   "cell_type": "code",
   "execution_count": 140,
   "id": "2e37dd13",
   "metadata": {},
   "outputs": [],
   "source": [
    "meanv = np.mean(valp[:, 1])"
   ]
  },
  {
   "cell_type": "code",
   "execution_count": 141,
   "id": "3a84854f",
   "metadata": {},
   "outputs": [],
   "source": [
    "rest = brain_nat_f1_gt[:, 0, 0, 0]"
   ]
  },
  {
   "cell_type": "code",
   "execution_count": 142,
   "id": "0dbda32c",
   "metadata": {},
   "outputs": [
    {
     "data": {
      "text/plain": [
       "array([0.26122825, 0.50768389, 0.61256742, 0.45862333, 0.56658269,\n",
       "       0.25634622, 0.59493076, 0.62518048, 0.09910214, 0.51757531,\n",
       "       0.53242619, 0.49217011])"
      ]
     },
     "execution_count": 142,
     "metadata": {},
     "output_type": "execute_result"
    }
   ],
   "source": [
    "rest"
   ]
  },
  {
   "cell_type": "code",
   "execution_count": 145,
   "id": "9516d388",
   "metadata": {},
   "outputs": [
    {
     "data": {
      "image/png": "[encoded data removed]",
      "text/plain": [
       "<Figure size 600x200 with 1 Axes>"
      ]
     },
     "metadata": {},
     "output_type": "display_data"
    }
   ],
   "source": [
    "plt.figure(figsize=(6, 2))\n",
    "sns.set_theme(style=\"darkgrid\")\n",
    "\n",
    "# Data\n",
    "data = [meanv, 0.26122825, 0.50768389, 0.61256742, 0.45862333, 0.56658269,\n",
    "        0.25634622, 0.59493076, 0.62518048, 0.09910214, 0.51757531,\n",
    "        0.53242619, 0.49217011]\n",
    "\n",
    "# Create an array for indices\n",
    "indices = np.arange(len(data))\n",
    "\n",
    "# Create the plot\n",
    "bars = plt.bar(indices, data, color='#D95319')\n",
    "\n",
    "# Highlight the first bar\n",
    "bars[0].set_color('#0072BD')\n",
    "\n",
    "# Draw a horizontal line at meanv\n",
    "plt.axhline(y=meanv, color='#0072BD', linestyle='--', label='Mean Value')\n",
    "\n",
    "# Add titles and labels\n",
    "plt.title('Data Visualization with Highlighted First Data Point')\n",
    "plt.xlabel('')\n",
    "plt.ylabel('DSC')\n",
    "plt.xticks([])\n",
    "\n",
    "plt.title('DSC of Brain Lesion Segmentation')\n",
    "\n",
    "# Create custom patches for the legend\n",
    "first_bar_legend = Patch(color='#0072BD', label='In-Domain Validation')\n",
    "other_bars_legend = Patch(color='#D95319', label='Out-Domain Test')\n",
    "\n",
    "# Add the legend\n",
    "plt.legend(handles=[first_bar_legend, other_bars_legend], loc='lower right')\n",
    "\n",
    "plt.ylim(0, 1)\n",
    "\n",
    "# Show the plot\n",
    "plt.show()"
   ]
  },
  {
   "cell_type": "code",
   "execution_count": null,
   "id": "c24c7f39",
   "metadata": {},
   "outputs": [],
   "source": []
  },
  {
   "cell_type": "code",
   "execution_count": null,
   "id": "a2b4c2de",
   "metadata": {},
   "outputs": [],
   "source": []
  },
  {
   "cell_type": "code",
   "execution_count": null,
   "id": "bb6a202d",
   "metadata": {},
   "outputs": [],
   "source": []
  }
 ],
 "metadata": {
  "kernelspec": {
   "display_name": "Python 3 (ipykernel)",
   "language": "python",
   "name": "python3"
  },
  "language_info": {
   "codemirror_mode": {
    "name": "ipython",
    "version": 3
   },
   "file_extension": ".py",
   "mimetype": "text/x-python",
   "name": "python",
   "nbconvert_exporter": "python",
   "pygments_lexer": "ipython3",
   "version": "3.9.13"
  }
 },
 "nbformat": 4,
 "nbformat_minor": 5
}

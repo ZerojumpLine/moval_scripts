{
 "cells": [
  {
   "cell_type": "code",
   "execution_count": 41,
   "id": "8614447c-a01d-414a-85a0-eca995e1ad32",
   "metadata": {},
   "outputs": [],
   "source": [
    "import re\n",
    "import pandas as pd\n",
    "import numpy as np"
   ]
  },
  {
   "cell_type": "code",
   "execution_count": 42,
   "id": "0e9f98ac-083f-49ae-a603-cc44db84f811",
   "metadata": {},
   "outputs": [],
   "source": [
    "filepath = '/Users/zejuli/Local/Imperial/MOVAL/results_demo_seg_2d.txt'"
   ]
  },
  {
   "cell_type": "code",
   "execution_count": 43,
   "id": "b68b8042-1d2a-4f05-9164-28c31af3bcd8",
   "metadata": {},
   "outputs": [],
   "source": [
    "res = pd.read_csv(filepath, header=None)"
   ]
  },
  {
   "cell_type": "code",
   "execution_count": 44,
   "id": "6f42e527-e216-424d-b2d1-4a849760511b",
   "metadata": {},
   "outputs": [
    {
     "data": {
      "text/html": [
       "<div>\n",
       "<style scoped>\n",
       "    .dataframe tbody tr th:only-of-type {\n",
       "        vertical-align: middle;\n",
       "    }\n",
       "\n",
       "    .dataframe tbody tr th {\n",
       "        vertical-align: top;\n",
       "    }\n",
       "\n",
       "    .dataframe thead th {\n",
       "        text-align: right;\n",
       "    }\n",
       "</style>\n",
       "<table border=\"1\" class=\"dataframe\">\n",
       "  <thead>\n",
       "    <tr style=\"text-align: right;\">\n",
       "      <th></th>\n",
       "      <th>0</th>\n",
       "      <th>1</th>\n",
       "      <th>2</th>\n",
       "      <th>3</th>\n",
       "    </tr>\n",
       "  </thead>\n",
       "  <tbody>\n",
       "    <tr>\n",
       "      <th>0</th>\n",
       "      <td>estim_algorithm = ac-model</td>\n",
       "      <td>mode = segmentation</td>\n",
       "      <td>confidence_scores = max_class_probability-conf</td>\n",
       "      <td>class_specific = False</td>\n",
       "    </tr>\n",
       "    <tr>\n",
       "      <th>1</th>\n",
       "      <td>validation dsc err: [0.08728778]</td>\n",
       "      <td>NaN</td>\n",
       "      <td>NaN</td>\n",
       "      <td>NaN</td>\n",
       "    </tr>\n",
       "    <tr>\n",
       "      <th>2</th>\n",
       "      <td>validation predicted dsc: [0.97984928]</td>\n",
       "      <td>NaN</td>\n",
       "      <td>NaN</td>\n",
       "      <td>NaN</td>\n",
       "    </tr>\n",
       "    <tr>\n",
       "      <th>3</th>\n",
       "      <td>moval parameter: [1]</td>\n",
       "      <td>NaN</td>\n",
       "      <td>NaN</td>\n",
       "      <td>NaN</td>\n",
       "    </tr>\n",
       "    <tr>\n",
       "      <th>4</th>\n",
       "      <td>test err: [0.2549829]</td>\n",
       "      <td>NaN</td>\n",
       "      <td>NaN</td>\n",
       "      <td>NaN</td>\n",
       "    </tr>\n",
       "    <tr>\n",
       "      <th>...</th>\n",
       "      <td>...</td>\n",
       "      <td>...</td>\n",
       "      <td>...</td>\n",
       "      <td>...</td>\n",
       "    </tr>\n",
       "    <tr>\n",
       "      <th>203</th>\n",
       "      <td>validation dsc err: [3.85607234e-08]</td>\n",
       "      <td>NaN</td>\n",
       "      <td>NaN</td>\n",
       "      <td>NaN</td>\n",
       "    </tr>\n",
       "    <tr>\n",
       "      <th>204</th>\n",
       "      <td>validation predicted dsc: [0.89256146]</td>\n",
       "      <td>NaN</td>\n",
       "      <td>NaN</td>\n",
       "      <td>NaN</td>\n",
       "    </tr>\n",
       "    <tr>\n",
       "      <th>205</th>\n",
       "      <td>moval parameter: [1. 1.]</td>\n",
       "      <td>NaN</td>\n",
       "      <td>NaN</td>\n",
       "      <td>NaN</td>\n",
       "    </tr>\n",
       "    <tr>\n",
       "      <th>206</th>\n",
       "      <td>moval extended parameter: [0.87196655 0.92351227]</td>\n",
       "      <td>NaN</td>\n",
       "      <td>NaN</td>\n",
       "      <td>NaN</td>\n",
       "    </tr>\n",
       "    <tr>\n",
       "      <th>207</th>\n",
       "      <td>test err: [0.0089128]</td>\n",
       "      <td>NaN</td>\n",
       "      <td>NaN</td>\n",
       "      <td>NaN</td>\n",
       "    </tr>\n",
       "  </tbody>\n",
       "</table>\n",
       "<p>208 rows × 4 columns</p>\n",
       "</div>"
      ],
      "text/plain": [
       "                                                     0                     1  \\\n",
       "0                           estim_algorithm = ac-model   mode = segmentation   \n",
       "1                     validation dsc err: [0.08728778]                   NaN   \n",
       "2               validation predicted dsc: [0.97984928]                   NaN   \n",
       "3                                 moval parameter: [1]                   NaN   \n",
       "4                                test err: [0.2549829]                   NaN   \n",
       "..                                                 ...                   ...   \n",
       "203               validation dsc err: [3.85607234e-08]                   NaN   \n",
       "204             validation predicted dsc: [0.89256146]                   NaN   \n",
       "205                           moval parameter: [1. 1.]                   NaN   \n",
       "206  moval extended parameter: [0.87196655 0.92351227]                   NaN   \n",
       "207                              test err: [0.0089128]                   NaN   \n",
       "\n",
       "                                                   2                        3  \n",
       "0     confidence_scores = max_class_probability-conf   class_specific = False  \n",
       "1                                                NaN                      NaN  \n",
       "2                                                NaN                      NaN  \n",
       "3                                                NaN                      NaN  \n",
       "4                                                NaN                      NaN  \n",
       "..                                               ...                      ...  \n",
       "203                                              NaN                      NaN  \n",
       "204                                              NaN                      NaN  \n",
       "205                                              NaN                      NaN  \n",
       "206                                              NaN                      NaN  \n",
       "207                                              NaN                      NaN  \n",
       "\n",
       "[208 rows x 4 columns]"
      ]
     },
     "execution_count": 44,
     "metadata": {},
     "output_type": "execute_result"
    }
   ],
   "source": [
    "res"
   ]
  },
  {
   "cell_type": "code",
   "execution_count": 45,
   "id": "c605506d-0869-4e50-9c12-1ffeafdf6158",
   "metadata": {},
   "outputs": [],
   "source": [
    "dn = res.iloc[[206]]"
   ]
  },
  {
   "cell_type": "code",
   "execution_count": 46,
   "id": "a3e41631-4e1d-491b-9965-b0811d04f349",
   "metadata": {},
   "outputs": [],
   "source": [
    "dnstr = str(dn[0])"
   ]
  },
  {
   "cell_type": "code",
   "execution_count": 47,
   "id": "e0ffc3f7-76b5-4bb1-aac6-41c1c9dd9b9f",
   "metadata": {},
   "outputs": [
    {
     "data": {
      "text/plain": [
       "'206    moval extended parameter: [0.87196655 0.92351227]\\nName: 0, dtype: object'"
      ]
     },
     "execution_count": 47,
     "metadata": {},
     "output_type": "execute_result"
    }
   ],
   "source": [
    "dnstr"
   ]
  },
  {
   "cell_type": "code",
   "execution_count": 48,
   "id": "493ed9f2-018a-4a01-a1e2-e3c920851dc4",
   "metadata": {},
   "outputs": [
    {
     "name": "stdout",
     "output_type": "stream",
     "text": [
      "Extracted NumPy array: [0.87196655 0.92351227]\n"
     ]
    }
   ],
   "source": [
    "# Use regular expression to extract the array\n",
    "match = re.search(r'\\[([\\d.]+)\\s+([\\d.]+)\\]', dnstr)\n",
    "\n",
    "if match:\n",
    "    # Extract the matched values and convert them to a NumPy array\n",
    "    array_values = [float(match.group(1)), float(match.group(2))]\n",
    "    numpy_array = np.array(array_values)\n",
    "    \n",
    "    print(\"Extracted NumPy array:\", numpy_array)\n",
    "else:\n",
    "    print(\"No match found in the input string.\")"
   ]
  },
  {
   "cell_type": "code",
   "execution_count": 50,
   "id": "fa81e141-de52-4790-ab31-6e936b357e02",
   "metadata": {},
   "outputs": [
    {
     "data": {
      "text/plain": [
       "2"
      ]
     },
     "execution_count": 50,
     "metadata": {},
     "output_type": "execute_result"
    }
   ],
   "source": [
    "len(numpy_array)"
   ]
  },
  {
   "cell_type": "code",
   "execution_count": 51,
   "id": "dc79cb3b-43c5-4fec-99f1-0c7f95f21ff7",
   "metadata": {},
   "outputs": [
    {
     "data": {
      "text/plain": [
       "array([0.87196655, 0.92351227])"
      ]
     },
     "execution_count": 51,
     "metadata": {},
     "output_type": "execute_result"
    }
   ],
   "source": [
    "numpy_array"
   ]
  },
  {
   "cell_type": "code",
   "execution_count": null,
   "id": "0d25374f-2286-4259-9a72-6632d3298def",
   "metadata": {},
   "outputs": [],
   "source": []
  }
 ],
 "metadata": {
  "kernelspec": {
   "display_name": "Python 3 (ipykernel)",
   "language": "python",
   "name": "python3"
  },
  "language_info": {
   "codemirror_mode": {
    "name": "ipython",
    "version": 3
   },
   "file_extension": ".py",
   "mimetype": "text/x-python",
   "name": "python",
   "nbconvert_exporter": "python",
   "pygments_lexer": "ipython3",
   "version": "3.8.0"
  }
 },
 "nbformat": 4,
 "nbformat_minor": 5
}
